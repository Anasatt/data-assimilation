{
 "cells": [
  {
   "cell_type": "markdown",
   "metadata": {},
   "source": [
    "# Orthogonal Fourier matrix"
   ]
  },
  {
   "cell_type": "markdown",
   "metadata": {},
   "source": [
    "The following Jupyter notebook contains the definition and basic implementation of orthogonal Fourier matrix."
   ]
  },
  {
   "cell_type": "markdown",
   "metadata": {},
   "source": [
    "### Tunable parameters \n",
    "- L - the length of a periodic domain where a Fourier series is defined\n",
    "- N - the number of waves\n",
    "- (2*N + 1) - the number of grid points\n",
    "- x - the symmetric discrete domain ranging from -L/2 to L/2"
   ]
  },
  {
   "cell_type": "code",
   "execution_count": 1,
   "metadata": {},
   "outputs": [],
   "source": [
    "import numpy as np\n",
    "import matplotlib.pyplot as plt\n",
    "%matplotlib inline"
   ]
  },
  {
   "cell_type": "code",
   "execution_count": 2,
   "metadata": {},
   "outputs": [],
   "source": [
    "L = 20.0\n",
    "N = 5\n",
    "grid_points = 2*N+1"
   ]
  },
  {
   "cell_type": "markdown",
   "metadata": {},
   "source": [
    "### Initialize the grid"
   ]
  },
  {
   "cell_type": "code",
   "execution_count": 3,
   "metadata": {},
   "outputs": [],
   "source": [
    "x = np.zeros(grid_points)\n",
    "for j in range(grid_points):\n",
    "    x[j] = L * (j-N)/grid_points"
   ]
  },
  {
   "cell_type": "code",
   "execution_count": 4,
   "metadata": {},
   "outputs": [
    {
     "data": {
      "text/plain": [
       "array([-9.09090909, -7.27272727, -5.45454545, -3.63636364, -1.81818182,\n",
       "        0.        ,  1.81818182,  3.63636364,  5.45454545,  7.27272727,\n",
       "        9.09090909])"
      ]
     },
     "execution_count": 4,
     "metadata": {},
     "output_type": "execute_result"
    }
   ],
   "source": [
    "x"
   ]
  },
  {
   "cell_type": "markdown",
   "metadata": {},
   "source": [
    "### Initialize the Fourier transform"
   ]
  },
  {
   "cell_type": "code",
   "execution_count": 5,
   "metadata": {},
   "outputs": [],
   "source": [
    "F = np.zeros((grid_points, 2*N+1))"
   ]
  },
  {
   "cell_type": "code",
   "execution_count": 6,
   "metadata": {},
   "outputs": [
    {
     "data": {
      "text/plain": [
       "array([[0., 0., 0., 0., 0., 0., 0., 0., 0., 0., 0.],\n",
       "       [0., 0., 0., 0., 0., 0., 0., 0., 0., 0., 0.],\n",
       "       [0., 0., 0., 0., 0., 0., 0., 0., 0., 0., 0.],\n",
       "       [0., 0., 0., 0., 0., 0., 0., 0., 0., 0., 0.],\n",
       "       [0., 0., 0., 0., 0., 0., 0., 0., 0., 0., 0.],\n",
       "       [0., 0., 0., 0., 0., 0., 0., 0., 0., 0., 0.],\n",
       "       [0., 0., 0., 0., 0., 0., 0., 0., 0., 0., 0.],\n",
       "       [0., 0., 0., 0., 0., 0., 0., 0., 0., 0., 0.],\n",
       "       [0., 0., 0., 0., 0., 0., 0., 0., 0., 0., 0.],\n",
       "       [0., 0., 0., 0., 0., 0., 0., 0., 0., 0., 0.],\n",
       "       [0., 0., 0., 0., 0., 0., 0., 0., 0., 0., 0.]])"
      ]
     },
     "execution_count": 6,
     "metadata": {},
     "output_type": "execute_result"
    }
   ],
   "source": [
    "F"
   ]
  },
  {
   "cell_type": "markdown",
   "metadata": {},
   "source": [
    "### Calculate the Fourier transform"
   ]
  },
  {
   "cell_type": "code",
   "execution_count": 7,
   "metadata": {},
   "outputs": [],
   "source": [
    "for j in range(grid_points):\n",
    "    for n in range(0,N+1):\n",
    "        if n == 0:\n",
    "            F[j, n] = 1/np.sqrt(2)\n",
    "        else:\n",
    "            F[j,2*n-1] = np.cos(2*np.pi*(2*n-1)*x[j]/L)\n",
    "            F[j,2*n] = np.sin(2*np.pi*(2*n-1)*x[j]/L)\n",
    "        #print j,n,F[j,n]\n",
    "F = F * np.sqrt(2./grid_points)"
   ]
  },
  {
   "cell_type": "markdown",
   "metadata": {},
   "source": [
    "### Transpose the Fourier transform"
   ]
  },
  {
   "cell_type": "code",
   "execution_count": 8,
   "metadata": {},
   "outputs": [],
   "source": [
    "F_t = F.transpose()"
   ]
  },
  {
   "cell_type": "markdown",
   "metadata": {},
   "source": [
    "### Consistency check: F * F_t = 1 (unitary matrix)"
   ]
  },
  {
   "cell_type": "code",
   "execution_count": 9,
   "metadata": {},
   "outputs": [
    {
     "data": {
      "text/plain": [
       "array([[1, 0, 0, 0, 0, 0, 0, 0, 0, 0, 0],\n",
       "       [0, 1, 0, 0, 0, 0, 0, 0, 0, 0, 0],\n",
       "       [0, 0, 1, 0, 0, 0, 0, 0, 0, 0, 0],\n",
       "       [0, 0, 0, 1, 0, 0, 0, 0, 0, 0, 0],\n",
       "       [0, 0, 0, 0, 1, 0, 0, 0, 0, 0, 0],\n",
       "       [0, 0, 0, 0, 0, 1, 0, 0, 0, 0, 0],\n",
       "       [0, 0, 0, 0, 0, 0, 1, 0, 0, 0, 0],\n",
       "       [0, 0, 0, 0, 0, 0, 0, 1, 0, 0, 0],\n",
       "       [0, 0, 0, 0, 0, 0, 0, 0, 1, 0, 0],\n",
       "       [0, 0, 0, 0, 0, 0, 0, 0, 0, 1, 0],\n",
       "       [0, 0, 0, 0, 0, 0, 0, 0, 0, 0, 1]])"
      ]
     },
     "execution_count": 9,
     "metadata": {},
     "output_type": "execute_result"
    }
   ],
   "source": [
    "np.where(np.array(np.matmul(F, F_t)) > 0.5, 1, 0)"
   ]
  },
  {
   "cell_type": "markdown",
   "metadata": {},
   "source": [
    "## Definitions of functions (to be used in the future)"
   ]
  },
  {
   "cell_type": "code",
   "execution_count": 10,
   "metadata": {},
   "outputs": [],
   "source": [
    "def orthogonal_fourier(L, N):\n",
    "    grid_points = 2*N + 1\n",
    "    \n",
    "    x = np.zeros(grid_points)\n",
    "    for j in range(grid_points):\n",
    "        x[j] = L * (j-N)/grid_points\n",
    "        \n",
    "    F = np.zeros((grid_points, 2*N+1))\n",
    "    for j in range(grid_points):\n",
    "        for n in range(0,N+1):\n",
    "            if n == 0:\n",
    "                F[j, n] = 1.0/np.sqrt(2.0)\n",
    "            else:\n",
    "                F[j,2*n-1] = np.cos(2.0*np.pi*(2*n-1)*x[j]/L)\n",
    "                F[j,2*n] = np.sin(2.0*np.pi*(2*n-1)*x[j]/L)\n",
    "    F = F * np.sqrt(2.0/grid_points)\n",
    "    \n",
    "    return F"
   ]
  },
  {
   "cell_type": "code",
   "execution_count": 11,
   "metadata": {},
   "outputs": [],
   "source": [
    "def unitarity_test(F, N):\n",
    "    F_t = np.transpose(F)\n",
    "    \n",
    "    array_to_test = np.where(np.array(np.matmul(F, F_t)) > 0.5, 1, 0)\n",
    "    #print(array_to_test)\n",
    "    if np.array_equal(array_to_test, np.identity(2*N + 1, dtype=np.int32)):\n",
    "        return True\n",
    "    else:\n",
    "        return False\n",
    "    "
   ]
  },
  {
   "cell_type": "code",
   "execution_count": 12,
   "metadata": {},
   "outputs": [
    {
     "name": "stdout",
     "output_type": "stream",
     "text": [
      "Fourier transform\n",
      "[[ 0.11111111 -0.15701667 -0.00609296 ... -0.02428029  0.15666233\n",
      "  -0.01217676]\n",
      " [ 0.11111111 -0.15607235 -0.01824224 ... -0.07052199  0.15289925\n",
      "  -0.03623779]\n",
      " [ 0.11111111 -0.1541894  -0.03028181 ... -0.11002854  0.14546349\n",
      "  -0.05942837]\n",
      " ...\n",
      " [ 0.11111111 -0.1541894   0.03028181 ...  0.11002854  0.14546349\n",
      "   0.05942837]\n",
      " [ 0.11111111 -0.15607235  0.01824224 ...  0.07052199  0.15289925\n",
      "   0.03623779]\n",
      " [ 0.11111111 -0.15701667  0.00609296 ...  0.02428029  0.15666233\n",
      "   0.01217676]]\n",
      "Unitarity: True\n"
     ]
    }
   ],
   "source": [
    "L = 10.0\n",
    "N = 40\n",
    "F = orthogonal_fourier(L, N)\n",
    "print(\"Fourier transform\")\n",
    "print(F)\n",
    "test = unitarity_test(F, N)\n",
    "print(\"Unitarity: %s\"%test)"
   ]
  },
  {
   "cell_type": "code",
   "execution_count": 13,
   "metadata": {},
   "outputs": [
    {
     "name": "stdout",
     "output_type": "stream",
     "text": [
      "Fourier transform\n",
      "[[ 0.06441566 -0.09108976 -0.00118748 ... -0.00474791  0.09106655\n",
      "  -0.00237476]\n",
      " [ 0.06441566 -0.09102785 -0.00356164 ... -0.01419214  0.090819\n",
      "  -0.00711783]\n",
      " [ 0.06441566 -0.09090407 -0.00593337 ... -0.02348217  0.0903246\n",
      "  -0.01184155]\n",
      " ...\n",
      " [ 0.06441566 -0.09090407  0.00593337 ...  0.02348217  0.0903246\n",
      "   0.01184155]\n",
      " [ 0.06441566 -0.09102785  0.00356164 ...  0.01419214  0.090819\n",
      "   0.00711783]\n",
      " [ 0.06441566 -0.09108976  0.00118748 ...  0.00474791  0.09106655\n",
      "   0.00237476]]\n",
      "Unitarity: True\n"
     ]
    }
   ],
   "source": [
    "L = 10.0\n",
    "N = 120\n",
    "F = orthogonal_fourier(L, N)\n",
    "print(\"Fourier transform\")\n",
    "print(F)\n",
    "test = unitarity_test(F, N)\n",
    "print(\"Unitarity: %s\"%test)"
   ]
  },
  {
   "cell_type": "code",
   "execution_count": null,
   "metadata": {},
   "outputs": [],
   "source": []
  }
 ],
 "metadata": {
  "kernelspec": {
   "display_name": "Python 3",
   "language": "python",
   "name": "python3"
  },
  "language_info": {
   "codemirror_mode": {
    "name": "ipython",
    "version": 3
   },
   "file_extension": ".py",
   "mimetype": "text/x-python",
   "name": "python",
   "nbconvert_exporter": "python",
   "pygments_lexer": "ipython3",
   "version": "3.6.5"
  }
 },
 "nbformat": 4,
 "nbformat_minor": 2
}
